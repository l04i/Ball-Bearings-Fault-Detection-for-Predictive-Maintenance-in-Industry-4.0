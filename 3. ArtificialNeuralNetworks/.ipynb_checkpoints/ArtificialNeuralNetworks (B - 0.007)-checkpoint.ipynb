{
 "cells": [
  {
   "cell_type": "code",
   "execution_count": 1,
   "id": "c7989964",
   "metadata": {},
   "outputs": [],
   "source": [
    "#importing packages\n",
    "import pandas as pd\n",
    "import numpy as np"
   ]
  },
  {
   "cell_type": "code",
   "execution_count": 2,
   "id": "a4089c81",
   "metadata": {},
   "outputs": [],
   "source": [
    "# Importing the dataset\n",
    "nb = pd.read_csv('../Dataset/NB.csv')\n",
    "nb['Fault'] = 0\n",
    "\n",
    "ir = pd.read_csv('../Dataset/B007.csv')\n",
    "ir['Fault'] = 1"
   ]
  },
  {
   "cell_type": "code",
   "execution_count": 3,
   "id": "f2696774",
   "metadata": {},
   "outputs": [
    {
     "name": "stderr",
     "output_type": "stream",
     "text": [
      "C:\\Users\\loaia\\AppData\\Local\\Temp\\ipykernel_268\\156461942.py:1: FutureWarning: The frame.append method is deprecated and will be removed from pandas in a future version. Use pandas.concat instead.\n",
      "  dataset = nb.append(ir)\n"
     ]
    },
    {
     "data": {
      "text/html": [
       "<div>\n",
       "<style scoped>\n",
       "    .dataframe tbody tr th:only-of-type {\n",
       "        vertical-align: middle;\n",
       "    }\n",
       "\n",
       "    .dataframe tbody tr th {\n",
       "        vertical-align: top;\n",
       "    }\n",
       "\n",
       "    .dataframe thead th {\n",
       "        text-align: right;\n",
       "    }\n",
       "</style>\n",
       "<table border=\"1\" class=\"dataframe\">\n",
       "  <thead>\n",
       "    <tr style=\"text-align: right;\">\n",
       "      <th></th>\n",
       "      <th>DE</th>\n",
       "      <th>FE</th>\n",
       "      <th>Fault</th>\n",
       "    </tr>\n",
       "  </thead>\n",
       "  <tbody>\n",
       "    <tr>\n",
       "      <th>0</th>\n",
       "      <td>0.046104</td>\n",
       "      <td>0.023216</td>\n",
       "      <td>0</td>\n",
       "    </tr>\n",
       "    <tr>\n",
       "      <th>1</th>\n",
       "      <td>-0.037134</td>\n",
       "      <td>0.081155</td>\n",
       "      <td>0</td>\n",
       "    </tr>\n",
       "    <tr>\n",
       "      <th>2</th>\n",
       "      <td>-0.089496</td>\n",
       "      <td>0.095331</td>\n",
       "      <td>0</td>\n",
       "    </tr>\n",
       "    <tr>\n",
       "      <th>3</th>\n",
       "      <td>-0.084906</td>\n",
       "      <td>0.091016</td>\n",
       "      <td>0</td>\n",
       "    </tr>\n",
       "    <tr>\n",
       "      <th>4</th>\n",
       "      <td>-0.038594</td>\n",
       "      <td>0.038625</td>\n",
       "      <td>0</td>\n",
       "    </tr>\n",
       "    <tr>\n",
       "      <th>...</th>\n",
       "      <td>...</td>\n",
       "      <td>...</td>\n",
       "      <td>...</td>\n",
       "    </tr>\n",
       "    <tr>\n",
       "      <th>487379</th>\n",
       "      <td>0.090539</td>\n",
       "      <td>0.016025</td>\n",
       "      <td>1</td>\n",
       "    </tr>\n",
       "    <tr>\n",
       "      <th>487380</th>\n",
       "      <td>0.095963</td>\n",
       "      <td>0.020956</td>\n",
       "      <td>1</td>\n",
       "    </tr>\n",
       "    <tr>\n",
       "      <th>487381</th>\n",
       "      <td>0.073433</td>\n",
       "      <td>0.021367</td>\n",
       "      <td>1</td>\n",
       "    </tr>\n",
       "    <tr>\n",
       "      <th>487382</th>\n",
       "      <td>0.048190</td>\n",
       "      <td>0.004725</td>\n",
       "      <td>1</td>\n",
       "    </tr>\n",
       "    <tr>\n",
       "      <th>487383</th>\n",
       "      <td>0.038385</td>\n",
       "      <td>-0.013149</td>\n",
       "      <td>1</td>\n",
       "    </tr>\n",
       "  </tbody>\n",
       "</table>\n",
       "<p>971287 rows × 3 columns</p>\n",
       "</div>"
      ],
      "text/plain": [
       "              DE        FE  Fault\n",
       "0       0.046104  0.023216      0\n",
       "1      -0.037134  0.081155      0\n",
       "2      -0.089496  0.095331      0\n",
       "3      -0.084906  0.091016      0\n",
       "4      -0.038594  0.038625      0\n",
       "...          ...       ...    ...\n",
       "487379  0.090539  0.016025      1\n",
       "487380  0.095963  0.020956      1\n",
       "487381  0.073433  0.021367      1\n",
       "487382  0.048190  0.004725      1\n",
       "487383  0.038385 -0.013149      1\n",
       "\n",
       "[971287 rows x 3 columns]"
      ]
     },
     "execution_count": 3,
     "metadata": {},
     "output_type": "execute_result"
    }
   ],
   "source": [
    "dataset = nb.append(ir)\n",
    "dataset"
   ]
  },
  {
   "cell_type": "code",
   "execution_count": 4,
   "id": "54c5d99a",
   "metadata": {},
   "outputs": [],
   "source": [
    "X = dataset.iloc[:, 0:2].values\n",
    "y = dataset.iloc[:, 2]"
   ]
  },
  {
   "cell_type": "code",
   "execution_count": 5,
   "id": "832c4f5a",
   "metadata": {},
   "outputs": [],
   "source": [
    "from sklearn.model_selection import train_test_split\n",
    "X_train, X_test, y_train, y_test = train_test_split(X, y, test_size = 0.2, random_state = 0)"
   ]
  },
  {
   "cell_type": "code",
   "execution_count": 6,
   "id": "3e738c1a",
   "metadata": {},
   "outputs": [],
   "source": [
    "from sklearn.preprocessing import StandardScaler\n",
    "sc = StandardScaler()\n",
    "X_train = sc.fit_transform(X_train)\n",
    "X_test = sc.transform(X_test)"
   ]
  },
  {
   "cell_type": "code",
   "execution_count": 7,
   "id": "d9745bb9",
   "metadata": {},
   "outputs": [],
   "source": [
    "import tensorflow as tf\n",
    "import keras\n",
    "from keras.models import Sequential\n",
    "from keras.layers import Dense"
   ]
  },
  {
   "cell_type": "code",
   "execution_count": 8,
   "id": "d0ad0308",
   "metadata": {},
   "outputs": [],
   "source": [
    "classifier_b = Sequential()"
   ]
  },
  {
   "cell_type": "code",
   "execution_count": 9,
   "id": "8a8cd1a4",
   "metadata": {},
   "outputs": [],
   "source": [
    "classifier_b.add(Dense(units = 64, kernel_initializer = 'uniform', activation = 'relu', input_dim = 2))"
   ]
  },
  {
   "cell_type": "code",
   "execution_count": 10,
   "id": "7026e36c",
   "metadata": {},
   "outputs": [],
   "source": [
    "classifier_b.add(Dense(units = 32, kernel_initializer = 'uniform', activation = 'relu'))"
   ]
  },
  {
   "cell_type": "code",
   "execution_count": 11,
   "id": "06b5c4fc",
   "metadata": {},
   "outputs": [],
   "source": [
    "classifier_b.add(Dense(units = 1, kernel_initializer = 'uniform', activation = 'sigmoid'))"
   ]
  },
  {
   "cell_type": "code",
   "execution_count": 12,
   "id": "ee89331d",
   "metadata": {},
   "outputs": [
    {
     "name": "stdout",
     "output_type": "stream",
     "text": [
      "Model: \"sequential\"\n",
      "_________________________________________________________________\n",
      " Layer (type)                Output Shape              Param #   \n",
      "=================================================================\n",
      " dense (Dense)               (None, 64)                192       \n",
      "                                                                 \n",
      " dense_1 (Dense)             (None, 32)                2080      \n",
      "                                                                 \n",
      " dense_2 (Dense)             (None, 1)                 33        \n",
      "                                                                 \n",
      "=================================================================\n",
      "Total params: 2,305\n",
      "Trainable params: 2,305\n",
      "Non-trainable params: 0\n",
      "_________________________________________________________________\n"
     ]
    }
   ],
   "source": [
    "classifier_b.compile(optimizer = 'sgd', loss = 'binary_crossentropy', metrics = ['accuracy'])\n",
    "classifier_b.summary()"
   ]
  },
  {
   "cell_type": "code",
   "execution_count": 13,
   "id": "99bfd09b",
   "metadata": {},
   "outputs": [
    {
     "name": "stdout",
     "output_type": "stream",
     "text": [
      "Epoch 1/20\n",
      "24283/24283 [==============================] - 153s 6ms/step - loss: 0.6260 - accuracy: 0.6301\n",
      "Epoch 2/20\n",
      "24283/24283 [==============================] - 154s 6ms/step - loss: 0.5640 - accuracy: 0.6932\n",
      "Epoch 3/20\n",
      "24283/24283 [==============================] - 139s 6ms/step - loss: 0.5635 - accuracy: 0.6935\n",
      "Epoch 4/20\n",
      "24283/24283 [==============================] - 141s 6ms/step - loss: 0.5633 - accuracy: 0.6936\n",
      "Epoch 5/20\n",
      "24283/24283 [==============================] - 142s 6ms/step - loss: 0.5632 - accuracy: 0.6936\n",
      "Epoch 6/20\n",
      "24283/24283 [==============================] - 144s 6ms/step - loss: 0.5631 - accuracy: 0.6935\n",
      "Epoch 7/20\n",
      "24283/24283 [==============================] - 146s 6ms/step - loss: 0.5631 - accuracy: 0.6936\n",
      "Epoch 8/20\n",
      "24283/24283 [==============================] - 145s 6ms/step - loss: 0.5631 - accuracy: 0.6935\n",
      "Epoch 9/20\n",
      "24283/24283 [==============================] - 150s 6ms/step - loss: 0.5631 - accuracy: 0.6935\n",
      "Epoch 10/20\n",
      "24283/24283 [==============================] - 143s 6ms/step - loss: 0.5631 - accuracy: 0.6936\n",
      "Epoch 11/20\n",
      "24283/24283 [==============================] - 148s 6ms/step - loss: 0.5631 - accuracy: 0.6936\n",
      "Epoch 12/20\n",
      "24283/24283 [==============================] - 152s 6ms/step - loss: 0.5630 - accuracy: 0.6936\n",
      "Epoch 13/20\n",
      "24283/24283 [==============================] - 138s 6ms/step - loss: 0.5630 - accuracy: 0.6937\n",
      "Epoch 14/20\n",
      "24283/24283 [==============================] - 124s 5ms/step - loss: 0.5630 - accuracy: 0.6936\n",
      "Epoch 15/20\n",
      "24283/24283 [==============================] - 124s 5ms/step - loss: 0.5630 - accuracy: 0.6937\n",
      "Epoch 16/20\n",
      "24283/24283 [==============================] - 125s 5ms/step - loss: 0.5630 - accuracy: 0.6936\n",
      "Epoch 17/20\n",
      "24283/24283 [==============================] - 125s 5ms/step - loss: 0.5630 - accuracy: 0.6936\n",
      "Epoch 18/20\n",
      " 2569/24283 [==>...........................] - ETA: 1:51 - loss: 0.5618 - accuracy: 0.6953"
     ]
    }
   ],
   "source": [
    "classifier_b.fit(X_train, y_train, batch_size = 32, epochs = 20, shuffle = False)\n"
   ]
  },
  {
   "cell_type": "code",
   "execution_count": 14,
   "id": "900fbe53",
   "metadata": {},
   "outputs": [],
   "source": [
    "y_pred = classifier_b.predict(X_test)\n",
    "y_pred = (y_pred > 0.5)"
   ]
  },
  {
   "cell_type": "code",
   "execution_count": 15,
   "id": "35125199",
   "metadata": {},
   "outputs": [],
   "source": [
    "from sklearn.metrics import confusion_matrix\n",
    "cm = confusion_matrix(y_test, y_pred)\n",
    "\n",
    "import seaborn as sn\n",
    "import pandas as pd\n",
    "import matplotlib.pyplot as plt\n",
    "\n",
    "index = ['Normal', 'Ball (0.007\")']  \n",
    "columns = ['Normal', 'Ball (0.007\")']  \n",
    "cm_df = pd.DataFrame(cm,columns,index)  \n",
    "\n",
    "\n",
    "plt.figure(figsize=(10,4))\n",
    "sn.set(font_scale=1.4) # for label size\n",
    "sn.heatmap(cm_df, annot=True, fmt='g') # font size\n",
    "plt.title('Confusion matrix')\n",
    "plt.xlabel('Predicted')\n",
    "plt.ylabel('True')\n",
    "plt.show()\n",
    "\n",
    "plt.show()"
   ]
  },
  {
   "cell_type": "code",
   "execution_count": 16,
   "id": "ee1b60a5",
   "metadata": {},
   "outputs": [],
   "source": [
    "classifier_b.evaluate(X_test, y_test)"
   ]
  },
  {
   "cell_type": "code",
   "execution_count": 17,
   "id": "32a0181a",
   "metadata": {},
   "outputs": [],
   "source": [
    "from sklearn.metrics import classification_report\n",
    "cr = classification_report(y_test, y_pred, target_names=['Normal', 'Ball (0.007\")'])\n",
    "print(cr)"
   ]
  },
  {
   "cell_type": "code",
   "execution_count": 18,
   "id": "96f7af17",
   "metadata": {},
   "outputs": [],
   "source": [
    "normal, IR = cm\n",
    "anomalies = normal[1] + IR[0]\n",
    "print(\"Anomalies: {}\".format(anomalies))"
   ]
  },
  {
   "cell_type": "code",
   "execution_count": null,
   "id": "13c7df13",
   "metadata": {},
   "outputs": [],
   "source": []
  }
 ],
 "metadata": {
  "kernelspec": {
   "display_name": "Python 3 (ipykernel)",
   "language": "python",
   "name": "python3"
  },
  "language_info": {
   "codemirror_mode": {
    "name": "ipython",
    "version": 3
   },
   "file_extension": ".py",
   "mimetype": "text/x-python",
   "name": "python",
   "nbconvert_exporter": "python",
   "pygments_lexer": "ipython3",
   "version": "3.11.1"
  }
 },
 "nbformat": 4,
 "nbformat_minor": 5
}
