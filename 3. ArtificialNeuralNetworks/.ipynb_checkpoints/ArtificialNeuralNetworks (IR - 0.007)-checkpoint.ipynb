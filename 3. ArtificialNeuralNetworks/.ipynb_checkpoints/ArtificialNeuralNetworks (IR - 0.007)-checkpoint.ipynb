{
 "cells": [
  {
   "cell_type": "code",
   "execution_count": 30,
   "metadata": {},
   "outputs": [],
   "source": [
    "#importing packages\n",
    "import pandas as pd\n",
    "import numpy as np"
   ]
  },
  {
   "cell_type": "code",
   "execution_count": 31,
   "metadata": {},
   "outputs": [],
   "source": [
    "# Importing the dataset\n",
    "nb = pd.read_csv('../Datasets/NB.csv')\n",
    "nb['Fault'] = 0\n",
    "\n",
    "ir = pd.read_csv('../Datasets/IR - 7.csv')\n",
    "ir['Fault'] = 1"
   ]
  },
  {
   "cell_type": "code",
   "execution_count": 32,
   "metadata": {},
   "outputs": [
    {
     "name": "stderr",
     "output_type": "stream",
     "text": [
      "C:\\Users\\loaia\\AppData\\Local\\Temp\\ipykernel_7992\\156461942.py:1: FutureWarning: The frame.append method is deprecated and will be removed from pandas in a future version. Use pandas.concat instead.\n",
      "  dataset = nb.append(ir)\n"
     ]
    },
    {
     "data": {
      "text/html": [
       "<div>\n",
       "<style scoped>\n",
       "    .dataframe tbody tr th:only-of-type {\n",
       "        vertical-align: middle;\n",
       "    }\n",
       "\n",
       "    .dataframe tbody tr th {\n",
       "        vertical-align: top;\n",
       "    }\n",
       "\n",
       "    .dataframe thead th {\n",
       "        text-align: right;\n",
       "    }\n",
       "</style>\n",
       "<table border=\"1\" class=\"dataframe\">\n",
       "  <thead>\n",
       "    <tr style=\"text-align: right;\">\n",
       "      <th></th>\n",
       "      <th>DE</th>\n",
       "      <th>FE</th>\n",
       "      <th>Fault</th>\n",
       "    </tr>\n",
       "  </thead>\n",
       "  <tbody>\n",
       "    <tr>\n",
       "      <th>0</th>\n",
       "      <td>0.064254</td>\n",
       "      <td>0.038625</td>\n",
       "      <td>0</td>\n",
       "    </tr>\n",
       "    <tr>\n",
       "      <th>1</th>\n",
       "      <td>0.063002</td>\n",
       "      <td>0.096769</td>\n",
       "      <td>0</td>\n",
       "    </tr>\n",
       "    <tr>\n",
       "      <th>2</th>\n",
       "      <td>-0.004381</td>\n",
       "      <td>0.127382</td>\n",
       "      <td>0</td>\n",
       "    </tr>\n",
       "    <tr>\n",
       "      <th>3</th>\n",
       "      <td>-0.035882</td>\n",
       "      <td>0.144640</td>\n",
       "      <td>0</td>\n",
       "    </tr>\n",
       "    <tr>\n",
       "      <th>4</th>\n",
       "      <td>-0.023991</td>\n",
       "      <td>0.086702</td>\n",
       "      <td>0</td>\n",
       "    </tr>\n",
       "    <tr>\n",
       "      <th>...</th>\n",
       "      <td>...</td>\n",
       "      <td>...</td>\n",
       "      <td>...</td>\n",
       "    </tr>\n",
       "    <tr>\n",
       "      <th>121150</th>\n",
       "      <td>0.135958</td>\n",
       "      <td>-0.047255</td>\n",
       "      <td>1</td>\n",
       "    </tr>\n",
       "    <tr>\n",
       "      <th>121151</th>\n",
       "      <td>-0.083167</td>\n",
       "      <td>-0.070882</td>\n",
       "      <td>1</td>\n",
       "    </tr>\n",
       "    <tr>\n",
       "      <th>121152</th>\n",
       "      <td>0.391469</td>\n",
       "      <td>-0.181005</td>\n",
       "      <td>1</td>\n",
       "    </tr>\n",
       "    <tr>\n",
       "      <th>121153</th>\n",
       "      <td>0.185501</td>\n",
       "      <td>0.136011</td>\n",
       "      <td>1</td>\n",
       "    </tr>\n",
       "    <tr>\n",
       "      <th>121154</th>\n",
       "      <td>-0.502574</td>\n",
       "      <td>-0.113205</td>\n",
       "      <td>1</td>\n",
       "    </tr>\n",
       "  </tbody>\n",
       "</table>\n",
       "<p>242310 rows × 3 columns</p>\n",
       "</div>"
      ],
      "text/plain": [
       "              DE        FE  Fault\n",
       "0       0.064254  0.038625      0\n",
       "1       0.063002  0.096769      0\n",
       "2      -0.004381  0.127382      0\n",
       "3      -0.035882  0.144640      0\n",
       "4      -0.023991  0.086702      0\n",
       "...          ...       ...    ...\n",
       "121150  0.135958 -0.047255      1\n",
       "121151 -0.083167 -0.070882      1\n",
       "121152  0.391469 -0.181005      1\n",
       "121153  0.185501  0.136011      1\n",
       "121154 -0.502574 -0.113205      1\n",
       "\n",
       "[242310 rows x 3 columns]"
      ]
     },
     "execution_count": 32,
     "metadata": {},
     "output_type": "execute_result"
    }
   ],
   "source": [
    "dataset = nb.append(ir)\n",
    "dataset"
   ]
  },
  {
   "cell_type": "code",
   "execution_count": 4,
   "metadata": {},
   "outputs": [],
   "source": [
    "X = dataset.iloc[:, 0:2].values\n",
    "y = dataset.iloc[:, 2]"
   ]
  },
  {
   "cell_type": "code",
   "execution_count": 5,
   "metadata": {},
   "outputs": [],
   "source": [
    "from sklearn.model_selection import train_test_split\n",
    "X_train, X_test, y_train, y_test = train_test_split(X, y, test_size = 0.2, random_state = 0)"
   ]
  },
  {
   "cell_type": "code",
   "execution_count": 6,
   "metadata": {},
   "outputs": [],
   "source": [
    "from sklearn.preprocessing import StandardScaler\n",
    "sc = StandardScaler()\n",
    "X_train = sc.fit_transform(X_train)\n",
    "X_test = sc.transform(X_test)"
   ]
  },
  {
   "cell_type": "code",
   "execution_count": 7,
   "metadata": {},
   "outputs": [],
   "source": [
    "import keras\n",
    "from keras.models import Sequential\n",
    "from keras.layers import Dense"
   ]
  },
  {
   "cell_type": "code",
   "execution_count": 19,
   "metadata": {},
   "outputs": [],
   "source": [
    "classifier = Sequential()"
   ]
  },
  {
   "cell_type": "code",
   "execution_count": 20,
   "metadata": {},
   "outputs": [],
   "source": [
    "classifier.add(Dense(units = 25, kernel_initializer = 'uniform', activation = 'relu', input_dim = 2))"
   ]
  },
  {
   "cell_type": "code",
   "execution_count": 21,
   "metadata": {},
   "outputs": [],
   "source": [
    "classifier.add(Dense(units = 15, kernel_initializer = 'uniform', activation = 'relu'))"
   ]
  },
  {
   "cell_type": "code",
   "execution_count": 22,
   "metadata": {},
   "outputs": [],
   "source": [
    "classifier.add(Dense(units = 1, kernel_initializer = 'uniform', activation = 'sigmoid'))"
   ]
  },
  {
   "cell_type": "code",
   "execution_count": 23,
   "metadata": {},
   "outputs": [
    {
     "name": "stdout",
     "output_type": "stream",
     "text": [
      "Model: \"sequential_1\"\n",
      "_________________________________________________________________\n",
      " Layer (type)                Output Shape              Param #   \n",
      "=================================================================\n",
      " dense_3 (Dense)             (None, 25)                75        \n",
      "                                                                 \n",
      " dense_4 (Dense)             (None, 15)                390       \n",
      "                                                                 \n",
      " dense_5 (Dense)             (None, 1)                 16        \n",
      "                                                                 \n",
      "=================================================================\n",
      "Total params: 481\n",
      "Trainable params: 481\n",
      "Non-trainable params: 0\n",
      "_________________________________________________________________\n"
     ]
    }
   ],
   "source": [
    "classifier.compile(optimizer = 'adam', loss = 'binary_crossentropy', metrics = ['accuracy'])\n",
    "classifier.summary()"
   ]
  },
  {
   "cell_type": "code",
   "execution_count": 24,
   "metadata": {},
   "outputs": [
    {
     "name": "stdout",
     "output_type": "stream",
     "text": [
      "Epoch 1/100\n",
      "194/194 [==============================] - 1s 2ms/step - loss: 0.5842 - accuracy: 0.8163\n",
      "Epoch 2/100\n",
      "194/194 [==============================] - 0s 2ms/step - loss: 0.3410 - accuracy: 0.8638\n",
      "Epoch 3/100\n",
      "194/194 [==============================] - 0s 2ms/step - loss: 0.3182 - accuracy: 0.8672\n",
      "Epoch 4/100\n",
      "194/194 [==============================] - 0s 2ms/step - loss: 0.3149 - accuracy: 0.8678\n",
      "Epoch 5/100\n",
      "194/194 [==============================] - 0s 2ms/step - loss: 0.3137 - accuracy: 0.8679\n",
      "Epoch 6/100\n",
      "194/194 [==============================] - 0s 2ms/step - loss: 0.3131 - accuracy: 0.8680\n",
      "Epoch 7/100\n",
      "194/194 [==============================] - 0s 2ms/step - loss: 0.3127 - accuracy: 0.8680\n",
      "Epoch 8/100\n",
      "194/194 [==============================] - 0s 2ms/step - loss: 0.3125 - accuracy: 0.8680\n",
      "Epoch 9/100\n",
      "194/194 [==============================] - 0s 2ms/step - loss: 0.3123 - accuracy: 0.8679\n",
      "Epoch 10/100\n",
      "194/194 [==============================] - 0s 2ms/step - loss: 0.3122 - accuracy: 0.8681\n",
      "Epoch 11/100\n",
      "194/194 [==============================] - 0s 2ms/step - loss: 0.3121 - accuracy: 0.8681\n",
      "Epoch 12/100\n",
      "194/194 [==============================] - 0s 2ms/step - loss: 0.3120 - accuracy: 0.8681\n",
      "Epoch 13/100\n",
      "194/194 [==============================] - 0s 2ms/step - loss: 0.3119 - accuracy: 0.8682\n",
      "Epoch 14/100\n",
      "194/194 [==============================] - 0s 2ms/step - loss: 0.3119 - accuracy: 0.8682\n",
      "Epoch 15/100\n",
      "194/194 [==============================] - 0s 2ms/step - loss: 0.3119 - accuracy: 0.8681\n",
      "Epoch 16/100\n",
      "194/194 [==============================] - 0s 2ms/step - loss: 0.3118 - accuracy: 0.8681\n",
      "Epoch 17/100\n",
      "194/194 [==============================] - 0s 2ms/step - loss: 0.3118 - accuracy: 0.8681\n",
      "Epoch 18/100\n",
      "194/194 [==============================] - 0s 2ms/step - loss: 0.3118 - accuracy: 0.8682\n",
      "Epoch 19/100\n",
      "194/194 [==============================] - 0s 2ms/step - loss: 0.3118 - accuracy: 0.8681\n",
      "Epoch 20/100\n",
      "194/194 [==============================] - 0s 2ms/step - loss: 0.3118 - accuracy: 0.8682\n",
      "Epoch 21/100\n",
      "194/194 [==============================] - 0s 2ms/step - loss: 0.3118 - accuracy: 0.8683\n",
      "Epoch 22/100\n",
      "194/194 [==============================] - 0s 2ms/step - loss: 0.3117 - accuracy: 0.8683\n",
      "Epoch 23/100\n",
      "194/194 [==============================] - 0s 2ms/step - loss: 0.3117 - accuracy: 0.8683\n",
      "Epoch 24/100\n",
      "194/194 [==============================] - 0s 2ms/step - loss: 0.3117 - accuracy: 0.8683\n",
      "Epoch 25/100\n",
      "194/194 [==============================] - 0s 2ms/step - loss: 0.3117 - accuracy: 0.8683\n",
      "Epoch 26/100\n",
      "194/194 [==============================] - 0s 2ms/step - loss: 0.3117 - accuracy: 0.8683\n",
      "Epoch 27/100\n",
      "194/194 [==============================] - 0s 2ms/step - loss: 0.3117 - accuracy: 0.8683\n",
      "Epoch 28/100\n",
      "194/194 [==============================] - 0s 2ms/step - loss: 0.3117 - accuracy: 0.8683\n",
      "Epoch 29/100\n",
      "194/194 [==============================] - 0s 2ms/step - loss: 0.3117 - accuracy: 0.8683\n",
      "Epoch 30/100\n",
      "194/194 [==============================] - 0s 2ms/step - loss: 0.3117 - accuracy: 0.8683\n",
      "Epoch 31/100\n",
      "194/194 [==============================] - 0s 2ms/step - loss: 0.3117 - accuracy: 0.8683\n",
      "Epoch 32/100\n",
      "194/194 [==============================] - 0s 2ms/step - loss: 0.3117 - accuracy: 0.8683\n",
      "Epoch 33/100\n",
      "194/194 [==============================] - 0s 2ms/step - loss: 0.3117 - accuracy: 0.8683\n",
      "Epoch 34/100\n",
      "194/194 [==============================] - 0s 2ms/step - loss: 0.3117 - accuracy: 0.8683\n",
      "Epoch 35/100\n",
      "194/194 [==============================] - 0s 2ms/step - loss: 0.3117 - accuracy: 0.8683\n",
      "Epoch 36/100\n",
      "194/194 [==============================] - 0s 2ms/step - loss: 0.3117 - accuracy: 0.8683\n",
      "Epoch 37/100\n",
      "194/194 [==============================] - 0s 2ms/step - loss: 0.3117 - accuracy: 0.8683\n",
      "Epoch 38/100\n",
      "194/194 [==============================] - 0s 2ms/step - loss: 0.3116 - accuracy: 0.8682\n",
      "Epoch 39/100\n",
      "194/194 [==============================] - 0s 2ms/step - loss: 0.3116 - accuracy: 0.8682\n",
      "Epoch 40/100\n",
      "194/194 [==============================] - 0s 2ms/step - loss: 0.3116 - accuracy: 0.8682\n",
      "Epoch 41/100\n",
      "194/194 [==============================] - 0s 2ms/step - loss: 0.3116 - accuracy: 0.8682\n",
      "Epoch 42/100\n",
      "194/194 [==============================] - 0s 2ms/step - loss: 0.3116 - accuracy: 0.8682\n",
      "Epoch 43/100\n",
      "194/194 [==============================] - 0s 2ms/step - loss: 0.3116 - accuracy: 0.8682\n",
      "Epoch 44/100\n",
      "194/194 [==============================] - 0s 2ms/step - loss: 0.3116 - accuracy: 0.8682\n",
      "Epoch 45/100\n",
      "194/194 [==============================] - 0s 2ms/step - loss: 0.3116 - accuracy: 0.8682\n",
      "Epoch 46/100\n",
      "194/194 [==============================] - 0s 2ms/step - loss: 0.3116 - accuracy: 0.8683\n",
      "Epoch 47/100\n",
      "194/194 [==============================] - 0s 2ms/step - loss: 0.3116 - accuracy: 0.8683\n",
      "Epoch 48/100\n",
      "194/194 [==============================] - 0s 2ms/step - loss: 0.3116 - accuracy: 0.8682\n",
      "Epoch 49/100\n",
      "194/194 [==============================] - 0s 2ms/step - loss: 0.3116 - accuracy: 0.8683\n",
      "Epoch 50/100\n",
      "194/194 [==============================] - 0s 2ms/step - loss: 0.3116 - accuracy: 0.8683\n",
      "Epoch 51/100\n",
      "194/194 [==============================] - 0s 2ms/step - loss: 0.3116 - accuracy: 0.8684\n",
      "Epoch 52/100\n",
      "194/194 [==============================] - 0s 2ms/step - loss: 0.3116 - accuracy: 0.8684\n",
      "Epoch 53/100\n",
      "194/194 [==============================] - 0s 2ms/step - loss: 0.3116 - accuracy: 0.8684\n",
      "Epoch 54/100\n",
      "194/194 [==============================] - 0s 2ms/step - loss: 0.3116 - accuracy: 0.8684\n",
      "Epoch 55/100\n",
      "194/194 [==============================] - 0s 2ms/step - loss: 0.3116 - accuracy: 0.8683\n",
      "Epoch 56/100\n",
      "194/194 [==============================] - 0s 2ms/step - loss: 0.3116 - accuracy: 0.8683\n",
      "Epoch 57/100\n",
      "194/194 [==============================] - 0s 2ms/step - loss: 0.3116 - accuracy: 0.8683\n",
      "Epoch 58/100\n",
      "194/194 [==============================] - 0s 2ms/step - loss: 0.3116 - accuracy: 0.8683\n",
      "Epoch 59/100\n",
      "194/194 [==============================] - 0s 2ms/step - loss: 0.3116 - accuracy: 0.8683\n",
      "Epoch 60/100\n",
      "194/194 [==============================] - 0s 2ms/step - loss: 0.3116 - accuracy: 0.8683\n",
      "Epoch 61/100\n",
      "194/194 [==============================] - 0s 2ms/step - loss: 0.3116 - accuracy: 0.8682\n",
      "Epoch 62/100\n",
      "194/194 [==============================] - 0s 2ms/step - loss: 0.3116 - accuracy: 0.8682\n",
      "Epoch 63/100\n",
      "194/194 [==============================] - 0s 2ms/step - loss: 0.3116 - accuracy: 0.8683\n",
      "Epoch 64/100\n",
      "194/194 [==============================] - 0s 2ms/step - loss: 0.3116 - accuracy: 0.8683\n",
      "Epoch 65/100\n",
      "194/194 [==============================] - 0s 2ms/step - loss: 0.3116 - accuracy: 0.8683\n",
      "Epoch 66/100\n",
      "194/194 [==============================] - 0s 2ms/step - loss: 0.3116 - accuracy: 0.8683\n",
      "Epoch 67/100\n",
      "194/194 [==============================] - 0s 2ms/step - loss: 0.3116 - accuracy: 0.8683\n",
      "Epoch 68/100\n",
      "194/194 [==============================] - 0s 2ms/step - loss: 0.3116 - accuracy: 0.8683\n",
      "Epoch 69/100\n",
      "194/194 [==============================] - 0s 2ms/step - loss: 0.3116 - accuracy: 0.8684\n",
      "Epoch 70/100\n",
      "194/194 [==============================] - 0s 2ms/step - loss: 0.3116 - accuracy: 0.8683\n",
      "Epoch 71/100\n",
      "194/194 [==============================] - 0s 2ms/step - loss: 0.3116 - accuracy: 0.8684\n",
      "Epoch 72/100\n",
      "194/194 [==============================] - 0s 2ms/step - loss: 0.3116 - accuracy: 0.8684\n",
      "Epoch 73/100\n",
      "194/194 [==============================] - 0s 2ms/step - loss: 0.3116 - accuracy: 0.8683\n",
      "Epoch 74/100\n",
      "194/194 [==============================] - 0s 2ms/step - loss: 0.3116 - accuracy: 0.8684\n",
      "Epoch 75/100\n",
      "194/194 [==============================] - 0s 2ms/step - loss: 0.3116 - accuracy: 0.8684\n",
      "Epoch 76/100\n",
      "194/194 [==============================] - 0s 2ms/step - loss: 0.3116 - accuracy: 0.8684\n",
      "Epoch 77/100\n",
      "194/194 [==============================] - 0s 2ms/step - loss: 0.3116 - accuracy: 0.8684\n",
      "Epoch 78/100\n",
      "194/194 [==============================] - 0s 2ms/step - loss: 0.3116 - accuracy: 0.8683\n",
      "Epoch 79/100\n",
      "194/194 [==============================] - 0s 2ms/step - loss: 0.3116 - accuracy: 0.8683\n",
      "Epoch 80/100\n",
      "194/194 [==============================] - 0s 2ms/step - loss: 0.3116 - accuracy: 0.8683\n",
      "Epoch 81/100\n"
     ]
    },
    {
     "name": "stdout",
     "output_type": "stream",
     "text": [
      "194/194 [==============================] - 0s 2ms/step - loss: 0.3116 - accuracy: 0.8683\n",
      "Epoch 82/100\n",
      "194/194 [==============================] - 0s 2ms/step - loss: 0.3116 - accuracy: 0.8683\n",
      "Epoch 83/100\n",
      "194/194 [==============================] - 0s 2ms/step - loss: 0.3116 - accuracy: 0.8683\n",
      "Epoch 84/100\n",
      "194/194 [==============================] - 0s 2ms/step - loss: 0.3116 - accuracy: 0.8683\n",
      "Epoch 85/100\n",
      "194/194 [==============================] - 0s 2ms/step - loss: 0.3116 - accuracy: 0.8683\n",
      "Epoch 86/100\n",
      "194/194 [==============================] - 0s 2ms/step - loss: 0.3116 - accuracy: 0.8683\n",
      "Epoch 87/100\n",
      "194/194 [==============================] - 0s 2ms/step - loss: 0.3116 - accuracy: 0.8683\n",
      "Epoch 88/100\n",
      "194/194 [==============================] - 0s 2ms/step - loss: 0.3116 - accuracy: 0.8683\n",
      "Epoch 89/100\n",
      "194/194 [==============================] - 0s 2ms/step - loss: 0.3116 - accuracy: 0.8683\n",
      "Epoch 90/100\n",
      "194/194 [==============================] - 0s 2ms/step - loss: 0.3116 - accuracy: 0.8683\n",
      "Epoch 91/100\n",
      "194/194 [==============================] - 0s 2ms/step - loss: 0.3116 - accuracy: 0.8683\n",
      "Epoch 92/100\n",
      "194/194 [==============================] - 0s 2ms/step - loss: 0.3116 - accuracy: 0.8684\n",
      "Epoch 93/100\n",
      "194/194 [==============================] - 0s 2ms/step - loss: 0.3116 - accuracy: 0.8683\n",
      "Epoch 94/100\n",
      "194/194 [==============================] - 0s 2ms/step - loss: 0.3116 - accuracy: 0.8684\n",
      "Epoch 95/100\n",
      "194/194 [==============================] - 0s 2ms/step - loss: 0.3116 - accuracy: 0.8683\n",
      "Epoch 96/100\n",
      "194/194 [==============================] - 0s 2ms/step - loss: 0.3116 - accuracy: 0.8684\n",
      "Epoch 97/100\n",
      "194/194 [==============================] - 0s 2ms/step - loss: 0.3116 - accuracy: 0.8684\n",
      "Epoch 98/100\n",
      "194/194 [==============================] - 0s 2ms/step - loss: 0.3116 - accuracy: 0.8683\n",
      "Epoch 99/100\n",
      "194/194 [==============================] - 0s 2ms/step - loss: 0.3116 - accuracy: 0.8683\n",
      "Epoch 100/100\n",
      "194/194 [==============================] - 0s 2ms/step - loss: 0.3116 - accuracy: 0.8683\n"
     ]
    }
   ],
   "source": [
    "model = classifier.fit(X_train, y_train, batch_size = 1000, epochs = 100, shuffle = False)\n"
   ]
  },
  {
   "cell_type": "code",
   "execution_count": 25,
   "metadata": {},
   "outputs": [
    {
     "name": "stdout",
     "output_type": "stream",
     "text": [
      "1515/1515 [==============================] - 2s 925us/step\n"
     ]
    }
   ],
   "source": [
    "y_pred = classifier.predict(X_test)\n",
    "y_pred = (y_pred > 0.5)"
   ]
  },
  {
   "cell_type": "code",
   "execution_count": 26,
   "metadata": {},
   "outputs": [
    {
     "data": {
      "image/png": "[encoded data removed]",
      "text/plain": [
       "<Figure size 1000x400 with 2 Axes>"
      ]
     },
     "metadata": {},
     "output_type": "display_data"
    }
   ],
   "source": [
    "from sklearn.metrics import confusion_matrix\n",
    "cm = confusion_matrix(y_test, y_pred)\n",
    "\n",
    "import seaborn as sn\n",
    "import pandas as pd\n",
    "import matplotlib.pyplot as plt\n",
    "\n",
    "index = ['Normal', 'Inner Race (0.007\")']  \n",
    "columns = ['Normal', 'Inner Race (0.007\")']  \n",
    "cm_df = pd.DataFrame(cm,columns,index)  \n",
    "\n",
    "\n",
    "plt.figure(figsize=(10,4))\n",
    "sn.set(font_scale=1.4) # for label size\n",
    "sn.heatmap(cm_df, annot=True, fmt='g') # font size\n",
    "plt.title('Confusion matrix')\n",
    "plt.xlabel('Predicted')\n",
    "plt.ylabel('True')\n",
    "plt.show()\n",
    "\n",
    "plt.show()"
   ]
  },
  {
   "cell_type": "code",
   "execution_count": 27,
   "metadata": {},
   "outputs": [
    {
     "name": "stdout",
     "output_type": "stream",
     "text": [
      "1515/1515 [==============================] - 2s 967us/step - loss: 0.3052 - accuracy: 0.8728\n"
     ]
    },
    {
     "data": {
      "text/plain": [
       "[0.305224746465683, 0.8727663159370422]"
      ]
     },
     "execution_count": 27,
     "metadata": {},
     "output_type": "execute_result"
    }
   ],
   "source": [
    "classifier.evaluate(X_test, y_test)"
   ]
  },
  {
   "cell_type": "code",
   "execution_count": 28,
   "metadata": {},
   "outputs": [
    {
     "name": "stdout",
     "output_type": "stream",
     "text": [
      "                     precision    recall  f1-score   support\n",
      "\n",
      "             Normal       0.82      0.95      0.88     24247\n",
      "Inner Race (0.007\")       0.94      0.80      0.86     24215\n",
      "\n",
      "           accuracy                           0.87     48462\n",
      "          macro avg       0.88      0.87      0.87     48462\n",
      "       weighted avg       0.88      0.87      0.87     48462\n",
      "\n"
     ]
    }
   ],
   "source": [
    "from sklearn.metrics import classification_report\n",
    "cr = classification_report(y_test, y_pred, target_names=['Normal', 'Inner Race (0.007\")'])\n",
    "print(cr)"
   ]
  },
  {
   "cell_type": "code",
   "execution_count": 29,
   "metadata": {},
   "outputs": [
    {
     "name": "stdout",
     "output_type": "stream",
     "text": [
      "Anomalies: 6166\n"
     ]
    }
   ],
   "source": [
    "normal, IR = cm\n",
    "anomalies = normal[1] + IR[0]\n",
    "print(\"Anomalies: {}\".format(anomalies))"
   ]
  },
  {
   "cell_type": "code",
   "execution_count": null,
   "metadata": {},
   "outputs": [],
   "source": []
  }
 ],
 "metadata": {
  "kernelspec": {
   "display_name": "Python 3 (ipykernel)",
   "language": "python",
   "name": "python3"
  },
  "language_info": {
   "codemirror_mode": {
    "name": "ipython",
    "version": 3
   },
   "file_extension": ".py",
   "mimetype": "text/x-python",
   "name": "python",
   "nbconvert_exporter": "python",
   "pygments_lexer": "ipython3",
   "version": "3.11.1"
  }
 },
 "nbformat": 4,
 "nbformat_minor": 4
}
