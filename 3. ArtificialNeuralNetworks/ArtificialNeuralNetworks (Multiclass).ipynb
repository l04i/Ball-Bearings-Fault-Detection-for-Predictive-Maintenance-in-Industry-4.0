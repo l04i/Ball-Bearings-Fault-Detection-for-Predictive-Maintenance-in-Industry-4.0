{
 "cells": [
  {
   "cell_type": "code",
   "execution_count": 1,
   "id": "9dc50d55",
   "metadata": {},
   "outputs": [],
   "source": [
    "#importing packages\n",
    "import pandas as pd\n",
    "import numpy as np"
   ]
  },
  {
   "cell_type": "code",
   "execution_count": 2,
   "id": "256d2736",
   "metadata": {},
   "outputs": [],
   "source": [
    "# Importing the dataset\n",
    "nb = pd.read_csv('../Dataset/NB.csv')\n",
    "nb['Fault'] = 0\n",
    "\n",
    "ir007 = pd.read_csv('../Dataset/IR007.csv')\n",
    "ir007['Fault'] = 1\n",
    "\n",
    "ir014 = pd.read_csv('../Dataset/IR014.csv')\n",
    "ir014['Fault'] = 2\n",
    "\n",
    "ir021 = pd.read_csv('../Dataset/IR021.csv')\n",
    "ir021['Fault'] = 3\n",
    "\n",
    "b007 = pd.read_csv('../Dataset/B007.csv')\n",
    "b007['Fault'] = 4\n",
    "\n",
    "b014 = pd.read_csv('../Dataset/B014.csv')\n",
    "b014['Fault'] = 5\n",
    "\n",
    "b021 = pd.read_csv('../Dataset/B021.csv')\n",
    "b021['Fault'] = 6\n",
    "\n",
    "or007 = pd.read_csv('../Dataset/OR007.csv')\n",
    "or007['Fault'] = 7\n",
    "\n",
    "or014 = pd.read_csv('../Dataset/OR014.csv')\n",
    "or014['Fault'] = 8\n",
    "\n",
    "or021 = pd.read_csv('../Dataset/OR021.csv')\n",
    "or021['Fault'] = 9"
   ]
  },
  {
   "cell_type": "code",
   "execution_count": 3,
   "id": "abc1215a",
   "metadata": {},
   "outputs": [
    {
     "data": {
      "text/html": [
       "<div>\n",
       "<style scoped>\n",
       "    .dataframe tbody tr th:only-of-type {\n",
       "        vertical-align: middle;\n",
       "    }\n",
       "\n",
       "    .dataframe tbody tr th {\n",
       "        vertical-align: top;\n",
       "    }\n",
       "\n",
       "    .dataframe thead th {\n",
       "        text-align: right;\n",
       "    }\n",
       "</style>\n",
       "<table border=\"1\" class=\"dataframe\">\n",
       "  <thead>\n",
       "    <tr style=\"text-align: right;\">\n",
       "      <th></th>\n",
       "      <th>DE</th>\n",
       "      <th>FE</th>\n",
       "      <th>Fault</th>\n",
       "    </tr>\n",
       "  </thead>\n",
       "  <tbody>\n",
       "    <tr>\n",
       "      <th>0</th>\n",
       "      <td>0.032127</td>\n",
       "      <td>0.086291</td>\n",
       "      <td>1</td>\n",
       "    </tr>\n",
       "    <tr>\n",
       "      <th>1</th>\n",
       "      <td>0.078231</td>\n",
       "      <td>0.110535</td>\n",
       "      <td>1</td>\n",
       "    </tr>\n",
       "    <tr>\n",
       "      <th>2</th>\n",
       "      <td>0.161468</td>\n",
       "      <td>0.110124</td>\n",
       "      <td>1</td>\n",
       "    </tr>\n",
       "    <tr>\n",
       "      <th>3</th>\n",
       "      <td>0.250547</td>\n",
       "      <td>0.080127</td>\n",
       "      <td>1</td>\n",
       "    </tr>\n",
       "    <tr>\n",
       "      <th>4</th>\n",
       "      <td>0.315426</td>\n",
       "      <td>0.004725</td>\n",
       "      <td>1</td>\n",
       "    </tr>\n",
       "    <tr>\n",
       "      <th>...</th>\n",
       "      <td>...</td>\n",
       "      <td>...</td>\n",
       "      <td>...</td>\n",
       "    </tr>\n",
       "    <tr>\n",
       "      <th>489120</th>\n",
       "      <td>0.370592</td>\n",
       "      <td>-0.025894</td>\n",
       "      <td>9</td>\n",
       "    </tr>\n",
       "    <tr>\n",
       "      <th>489121</th>\n",
       "      <td>0.381443</td>\n",
       "      <td>-0.071927</td>\n",
       "      <td>9</td>\n",
       "    </tr>\n",
       "    <tr>\n",
       "      <th>489122</th>\n",
       "      <td>0.362245</td>\n",
       "      <td>0.015207</td>\n",
       "      <td>9</td>\n",
       "    </tr>\n",
       "    <tr>\n",
       "      <th>489123</th>\n",
       "      <td>0.325520</td>\n",
       "      <td>0.139743</td>\n",
       "      <td>9</td>\n",
       "    </tr>\n",
       "    <tr>\n",
       "      <th>489124</th>\n",
       "      <td>0.276275</td>\n",
       "      <td>0.218246</td>\n",
       "      <td>9</td>\n",
       "    </tr>\n",
       "  </tbody>\n",
       "</table>\n",
       "<p>4757904 rows × 3 columns</p>\n",
       "</div>"
      ],
      "text/plain": [
       "              DE        FE  Fault\n",
       "0       0.032127  0.086291      1\n",
       "1       0.078231  0.110535      1\n",
       "2       0.161468  0.110124      1\n",
       "3       0.250547  0.080127      1\n",
       "4       0.315426  0.004725      1\n",
       "...          ...       ...    ...\n",
       "489120  0.370592 -0.025894      9\n",
       "489121  0.381443 -0.071927      9\n",
       "489122  0.362245  0.015207      9\n",
       "489123  0.325520  0.139743      9\n",
       "489124  0.276275  0.218246      9\n",
       "\n",
       "[4757904 rows x 3 columns]"
      ]
     },
     "execution_count": 3,
     "metadata": {},
     "output_type": "execute_result"
    }
   ],
   "source": []
  },
  {
   "cell_type": "code",
   "execution_count": 4,
   "id": "28975d33",
   "metadata": {},
   "outputs": [],
   "source": [
    "X = dataset.iloc[:, 0:2].values\n",
    "y = dataset.iloc[:, 2]"
   ]
  },
  {
   "cell_type": "code",
   "execution_count": 5,
   "id": "daff254d",
   "metadata": {},
   "outputs": [],
   "source": [
    "from sklearn.model_selection import train_test_split\n",
    "X_train, X_test, y_train, y_test = train_test_split(X, y, test_size = 0.2, random_state = 0)"
   ]
  },
  {
   "cell_type": "code",
   "execution_count": 6,
   "id": "a75f8dba",
   "metadata": {},
   "outputs": [],
   "source": [
    "from sklearn.preprocessing import StandardScaler\n",
    "sc = StandardScaler()\n",
    "X_train = sc.fit_transform(X_train)\n",
    "X_test = sc.transform(X_test)"
   ]
  },
  {
   "cell_type": "code",
   "execution_count": 7,
   "id": "c3638707",
   "metadata": {},
   "outputs": [],
   "source": [
    "import tensorflow as tf\n",
    "import keras\n",
    "from keras.models import Sequential\n",
    "from keras.layers import Dense"
   ]
  },
  {
   "cell_type": "code",
   "execution_count": 8,
   "id": "d7b8a8a1",
   "metadata": {},
   "outputs": [],
   "source": [
    "classifier = Sequential()"
   ]
  },
  {
   "cell_type": "code",
   "execution_count": 9,
   "id": "bb8d3c04",
   "metadata": {},
   "outputs": [],
   "source": [
    "classifier.add(Dense(units = 64, kernel_initializer = 'uniform', activation = 'relu', input_dim = 2))"
   ]
  },
  {
   "cell_type": "code",
   "execution_count": 10,
   "id": "4d9f5496",
   "metadata": {},
   "outputs": [],
   "source": [
    "classifier.add(Dense(units = 32, kernel_initializer = 'uniform', activation = 'relu'))"
   ]
  },
  {
   "cell_type": "code",
   "execution_count": 11,
   "id": "a8edb3af",
   "metadata": {},
   "outputs": [],
   "source": [
    "classifier.add(Dense(units = 10, kernel_initializer = 'uniform', activation = 'linear'))"
   ]
  },
  {
   "cell_type": "code",
   "execution_count": 12,
   "id": "2d689d62",
   "metadata": {},
   "outputs": [
    {
     "name": "stdout",
     "output_type": "stream",
     "text": [
      "Model: \"sequential\"\n",
      "_________________________________________________________________\n",
      " Layer (type)                Output Shape              Param #   \n",
      "=================================================================\n",
      " dense (Dense)               (None, 64)                192       \n",
      "                                                                 \n",
      " dense_1 (Dense)             (None, 32)                2080      \n",
      "                                                                 \n",
      " dense_2 (Dense)             (None, 10)                330       \n",
      "                                                                 \n",
      "=================================================================\n",
      "Total params: 2,602\n",
      "Trainable params: 2,602\n",
      "Non-trainable params: 0\n",
      "_________________________________________________________________\n"
     ]
    }
   ],
   "source": [
    "classifier.compile(\n",
    "    loss=tf.keras.losses.SparseCategoricalCrossentropy(from_logits=True),\n",
    "    optimizer=tf.keras.optimizers.Adam(learning_rate=0.001),\n",
    "    metrics=['accuracy'],\n",
    ")\n",
    "classifier.summary()"
   ]
  },
  {
   "cell_type": "code",
   "execution_count": 13,
   "id": "8bb3991b",
   "metadata": {},
   "outputs": [
    {
     "name": "stdout",
     "output_type": "stream",
     "text": [
      "Epoch 1/20\n",
      "118948/118948 [==============================] - 169s 1ms/step - loss: 2.0059 - accuracy: 0.2556\n",
      "Epoch 2/20\n",
      "118948/118948 [==============================] - 163s 1ms/step - loss: 2.0015 - accuracy: 0.2572\n",
      "Epoch 3/20\n",
      "118948/118948 [==============================] - 179s 2ms/step - loss: 2.0008 - accuracy: 0.2574\n",
      "Epoch 4/20\n",
      "118948/118948 [==============================] - 167s 1ms/step - loss: 2.0006 - accuracy: 0.2575\n",
      "Epoch 5/20\n",
      "118948/118948 [==============================] - 145s 1ms/step - loss: 2.0005 - accuracy: 0.2576\n",
      "Epoch 6/20\n",
      "118948/118948 [==============================] - 174s 1ms/step - loss: 2.0004 - accuracy: 0.2575\n",
      "Epoch 7/20\n",
      "118948/118948 [==============================] - 174s 1ms/step - loss: 2.0004 - accuracy: 0.2576\n",
      "Epoch 8/20\n",
      "118948/118948 [==============================] - 150s 1ms/step - loss: 2.0003 - accuracy: 0.2576\n",
      "Epoch 9/20\n",
      "118948/118948 [==============================] - 145s 1ms/step - loss: 2.0003 - accuracy: 0.2577\n",
      "Epoch 10/20\n",
      "118948/118948 [==============================] - 177s 1ms/step - loss: 2.0003 - accuracy: 0.2577\n",
      "Epoch 11/20\n",
      "118948/118948 [==============================] - 153s 1ms/step - loss: 2.0003 - accuracy: 0.2576\n",
      "Epoch 12/20\n",
      "118948/118948 [==============================] - 149s 1ms/step - loss: 2.0003 - accuracy: 0.2577\n",
      "Epoch 13/20\n",
      "118948/118948 [==============================] - 161s 1ms/step - loss: 2.0004 - accuracy: 0.2577\n",
      "Epoch 14/20\n",
      "118948/118948 [==============================] - 144s 1ms/step - loss: 2.0003 - accuracy: 0.2576\n",
      "Epoch 15/20\n",
      "118948/118948 [==============================] - 155s 1ms/step - loss: 2.0004 - accuracy: 0.2576\n",
      "Epoch 16/20\n",
      "118948/118948 [==============================] - 161s 1ms/step - loss: 2.0003 - accuracy: 0.2576\n",
      "Epoch 17/20\n",
      "118948/118948 [==============================] - 148s 1ms/step - loss: 2.0004 - accuracy: 0.2576\n",
      "Epoch 18/20\n",
      "118948/118948 [==============================] - 151s 1ms/step - loss: 2.0004 - accuracy: 0.2576\n",
      "Epoch 19/20\n",
      "118948/118948 [==============================] - 150s 1ms/step - loss: 2.0004 - accuracy: 0.2576\n",
      "Epoch 20/20\n",
      "118948/118948 [==============================] - 144s 1ms/step - loss: 2.0004 - accuracy: 0.2576\n"
     ]
    },
    {
     "data": {
      "text/plain": [
       "<keras.callbacks.History at 0x1c24d04dc10>"
      ]
     },
     "execution_count": 13,
     "metadata": {},
     "output_type": "execute_result"
    }
   ],
   "source": [
    "classifier.fit(X_train, y_train, batch_size = 32, epochs = 20, shuffle = False)\n"
   ]
  },
  {
   "cell_type": "code",
   "execution_count": 14,
   "id": "f4fd8b30",
   "metadata": {},
   "outputs": [
    {
     "name": "stdout",
     "output_type": "stream",
     "text": [
      "29737/29737 [==============================] - 26s 859us/step\n"
     ]
    },
    {
     "data": {
      "text/plain": [
       "170190"
      ]
     },
     "execution_count": 14,
     "metadata": {},
     "output_type": "execute_result"
    }
   ],
   "source": [
    "y_pred = classifier.predict(X_test)\n",
    "y_pred = np.argmax(y_pred)\n",
    "y_pred"
   ]
  },
  {
   "cell_type": "code",
   "execution_count": null,
   "id": "3a22226d",
   "metadata": {},
   "outputs": [],
   "source": []
  },
  {
   "cell_type": "code",
   "execution_count": null,
   "id": "e93f12c2",
   "metadata": {},
   "outputs": [],
   "source": []
  },
  {
   "cell_type": "code",
   "execution_count": null,
   "id": "d3a6a247",
   "metadata": {},
   "outputs": [],
   "source": []
  },
  {
   "cell_type": "code",
   "execution_count": null,
   "id": "a2220a93",
   "metadata": {},
   "outputs": [],
   "source": []
  },
  {
   "cell_type": "code",
   "execution_count": null,
   "id": "c3b9f969",
   "metadata": {},
   "outputs": [],
   "source": []
  },
  {
   "cell_type": "code",
   "execution_count": null,
   "id": "1af22921",
   "metadata": {},
   "outputs": [],
   "source": []
  },
  {
   "cell_type": "code",
   "execution_count": null,
   "id": "b0184126",
   "metadata": {},
   "outputs": [],
   "source": []
  },
  {
   "cell_type": "code",
   "execution_count": null,
   "id": "3b4d5a8e",
   "metadata": {},
   "outputs": [],
   "source": []
  },
  {
   "cell_type": "code",
   "execution_count": null,
   "id": "9ac507b2",
   "metadata": {},
   "outputs": [],
   "source": []
  },
  {
   "cell_type": "code",
   "execution_count": null,
   "id": "1426865b",
   "metadata": {},
   "outputs": [],
   "source": []
  },
  {
   "cell_type": "code",
   "execution_count": null,
   "id": "c1273560",
   "metadata": {},
   "outputs": [],
   "source": []
  },
  {
   "cell_type": "code",
   "execution_count": null,
   "id": "4219b92e",
   "metadata": {},
   "outputs": [],
   "source": []
  },
  {
   "cell_type": "code",
   "execution_count": null,
   "id": "b4554d8b",
   "metadata": {},
   "outputs": [],
   "source": []
  },
  {
   "cell_type": "code",
   "execution_count": null,
   "id": "6d7684e2",
   "metadata": {},
   "outputs": [],
   "source": []
  },
  {
   "cell_type": "code",
   "execution_count": null,
   "id": "138d6b16",
   "metadata": {},
   "outputs": [],
   "source": []
  },
  {
   "cell_type": "code",
   "execution_count": null,
   "id": "50c71118",
   "metadata": {},
   "outputs": [],
   "source": []
  },
  {
   "cell_type": "code",
   "execution_count": null,
   "id": "5b29d610",
   "metadata": {},
   "outputs": [],
   "source": []
  },
  {
   "cell_type": "code",
   "execution_count": null,
   "id": "bf5d462a",
   "metadata": {},
   "outputs": [],
   "source": []
  }
 ],
 "metadata": {
  "kernelspec": {
   "display_name": "Python 3 (ipykernel)",
   "language": "python",
   "name": "python3"
  },
  "language_info": {
   "codemirror_mode": {
    "name": "ipython",
    "version": 3
   },
   "file_extension": ".py",
   "mimetype": "text/x-python",
   "name": "python",
   "nbconvert_exporter": "python",
   "pygments_lexer": "ipython3",
   "version": "3.11.1"
  }
 },
 "nbformat": 4,
 "nbformat_minor": 5
}
