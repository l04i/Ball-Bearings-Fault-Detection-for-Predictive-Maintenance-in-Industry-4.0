{
 "cells": [
  {
   "cell_type": "code",
   "execution_count": 1,
   "id": "1b160009",
   "metadata": {},
   "outputs": [],
   "source": [
    "#importing packages\n",
    "import pandas as pd\n",
    "import numpy as np"
   ]
  },
  {
   "cell_type": "code",
   "execution_count": 2,
   "id": "e7cd2055",
   "metadata": {},
   "outputs": [],
   "source": [
    "# Importing the dataset\n",
    "nb = pd.read_csv('../Datasets/NB.csv')\n",
    "nb['Fault'] = 0\n",
    "\n",
    "ir = pd.read_csv('../Datasets/IR - 7.csv')\n",
    "ir['Fault'] = 1"
   ]
  },
  {
   "cell_type": "code",
   "execution_count": 3,
   "id": "c412c9e9",
   "metadata": {},
   "outputs": [
    {
     "name": "stderr",
     "output_type": "stream",
     "text": [
      "C:\\Users\\loaia\\AppData\\Local\\Temp\\ipykernel_92\\156461942.py:1: FutureWarning: The frame.append method is deprecated and will be removed from pandas in a future version. Use pandas.concat instead.\n",
      "  dataset = nb.append(ir)\n"
     ]
    },
    {
     "data": {
      "text/html": [
       "<div>\n",
       "<style scoped>\n",
       "    .dataframe tbody tr th:only-of-type {\n",
       "        vertical-align: middle;\n",
       "    }\n",
       "\n",
       "    .dataframe tbody tr th {\n",
       "        vertical-align: top;\n",
       "    }\n",
       "\n",
       "    .dataframe thead th {\n",
       "        text-align: right;\n",
       "    }\n",
       "</style>\n",
       "<table border=\"1\" class=\"dataframe\">\n",
       "  <thead>\n",
       "    <tr style=\"text-align: right;\">\n",
       "      <th></th>\n",
       "      <th>DE</th>\n",
       "      <th>FE</th>\n",
       "      <th>Fault</th>\n",
       "    </tr>\n",
       "  </thead>\n",
       "  <tbody>\n",
       "    <tr>\n",
       "      <th>0</th>\n",
       "      <td>0.064254</td>\n",
       "      <td>0.038625</td>\n",
       "      <td>0</td>\n",
       "    </tr>\n",
       "    <tr>\n",
       "      <th>1</th>\n",
       "      <td>0.063002</td>\n",
       "      <td>0.096769</td>\n",
       "      <td>0</td>\n",
       "    </tr>\n",
       "    <tr>\n",
       "      <th>2</th>\n",
       "      <td>-0.004381</td>\n",
       "      <td>0.127382</td>\n",
       "      <td>0</td>\n",
       "    </tr>\n",
       "    <tr>\n",
       "      <th>3</th>\n",
       "      <td>-0.035882</td>\n",
       "      <td>0.144640</td>\n",
       "      <td>0</td>\n",
       "    </tr>\n",
       "    <tr>\n",
       "      <th>4</th>\n",
       "      <td>-0.023991</td>\n",
       "      <td>0.086702</td>\n",
       "      <td>0</td>\n",
       "    </tr>\n",
       "    <tr>\n",
       "      <th>...</th>\n",
       "      <td>...</td>\n",
       "      <td>...</td>\n",
       "      <td>...</td>\n",
       "    </tr>\n",
       "    <tr>\n",
       "      <th>121150</th>\n",
       "      <td>0.135958</td>\n",
       "      <td>-0.047255</td>\n",
       "      <td>1</td>\n",
       "    </tr>\n",
       "    <tr>\n",
       "      <th>121151</th>\n",
       "      <td>-0.083167</td>\n",
       "      <td>-0.070882</td>\n",
       "      <td>1</td>\n",
       "    </tr>\n",
       "    <tr>\n",
       "      <th>121152</th>\n",
       "      <td>0.391469</td>\n",
       "      <td>-0.181005</td>\n",
       "      <td>1</td>\n",
       "    </tr>\n",
       "    <tr>\n",
       "      <th>121153</th>\n",
       "      <td>0.185501</td>\n",
       "      <td>0.136011</td>\n",
       "      <td>1</td>\n",
       "    </tr>\n",
       "    <tr>\n",
       "      <th>121154</th>\n",
       "      <td>-0.502574</td>\n",
       "      <td>-0.113205</td>\n",
       "      <td>1</td>\n",
       "    </tr>\n",
       "  </tbody>\n",
       "</table>\n",
       "<p>242310 rows × 3 columns</p>\n",
       "</div>"
      ],
      "text/plain": [
       "              DE        FE  Fault\n",
       "0       0.064254  0.038625      0\n",
       "1       0.063002  0.096769      0\n",
       "2      -0.004381  0.127382      0\n",
       "3      -0.035882  0.144640      0\n",
       "4      -0.023991  0.086702      0\n",
       "...          ...       ...    ...\n",
       "121150  0.135958 -0.047255      1\n",
       "121151 -0.083167 -0.070882      1\n",
       "121152  0.391469 -0.181005      1\n",
       "121153  0.185501  0.136011      1\n",
       "121154 -0.502574 -0.113205      1\n",
       "\n",
       "[242310 rows x 3 columns]"
      ]
     },
     "execution_count": 3,
     "metadata": {},
     "output_type": "execute_result"
    }
   ],
   "source": [
    "dataset = nb.append(ir)\n",
    "dataset"
   ]
  },
  {
   "cell_type": "code",
   "execution_count": 4,
   "id": "f8e2fef2",
   "metadata": {},
   "outputs": [],
   "source": [
    "X = dataset.iloc[:, 0:2].values\n",
    "y = dataset.iloc[:, 2]"
   ]
  },
  {
   "cell_type": "code",
   "execution_count": 5,
   "id": "c8e94668",
   "metadata": {},
   "outputs": [],
   "source": [
    "from sklearn.model_selection import train_test_split\n",
    "X_train, X_test, y_train, y_test = train_test_split(X, y, test_size = 0.2, random_state = 0)"
   ]
  },
  {
   "cell_type": "code",
   "execution_count": 6,
   "id": "b210759e",
   "metadata": {},
   "outputs": [],
   "source": [
    "from sklearn.preprocessing import StandardScaler\n",
    "sc = StandardScaler()\n",
    "X_train = sc.fit_transform(X_train)\n",
    "X_test = sc.transform(X_test)"
   ]
  },
  {
   "cell_type": "code",
   "execution_count": 7,
   "id": "92cdabbd",
   "metadata": {},
   "outputs": [],
   "source": [
    "import torch\n",
    "import torch.nn as nn\n",
    "import torch.optim as optim"
   ]
  },
  {
   "cell_type": "code",
   "execution_count": 8,
   "id": "47acb519",
   "metadata": {},
   "outputs": [
    {
     "name": "stdout",
     "output_type": "stream",
     "text": [
      "Classifier(\n",
      "  (fc1): Linear(in_features=2, out_features=64, bias=True)\n",
      "  (fc2): Linear(in_features=64, out_features=32, bias=True)\n",
      "  (fc3): Linear(in_features=32, out_features=1, bias=True)\n",
      "  (relu): ReLU()\n",
      "  (sigmoid): Sigmoid()\n",
      ")\n"
     ]
    }
   ],
   "source": [
    "class Classifier(nn.Module):\n",
    "    def __init__(self):\n",
    "        super(Classifier, self).__init__()\n",
    "        self.fc1 = nn.Linear(2, 64)\n",
    "        self.fc2 = nn.Linear(64, 32)\n",
    "        self.fc3 = nn.Linear(32, 1)\n",
    "        self.relu = nn.ReLU()\n",
    "        self.sigmoid = nn.Sigmoid()\n",
    "        \n",
    "    def forward(self, x):\n",
    "        x = self.relu(self.fc1(x))\n",
    "        x = self.relu(self.fc2(x))\n",
    "        x = self.sigmoid(self.fc3(x))\n",
    "        return x\n",
    "\n",
    "classifier = Classifier()\n",
    "optimizer = optim.SGD(classifier.parameters(), lr=0.01)\n",
    "criterion = nn.BCELoss()\n",
    "\n",
    "# Print model summary\n",
    "print(classifier)"
   ]
  },
  {
   "cell_type": "code",
   "execution_count": 13,
   "id": "604ef2e1",
   "metadata": {},
   "outputs": [
    {
     "name": "stdout",
     "output_type": "stream",
     "text": [
      "Epoch 1 loss: 0.368\n",
      "Epoch 2 loss: 0.314\n",
      "Epoch 3 loss: 0.313\n",
      "Epoch 4 loss: 0.313\n",
      "Epoch 5 loss: 0.312\n",
      "Epoch 6 loss: 0.312\n",
      "Epoch 7 loss: 0.312\n",
      "Epoch 8 loss: 0.312\n",
      "Epoch 9 loss: 0.312\n",
      "Epoch 10 loss: 0.312\n",
      "Epoch 11 loss: 0.312\n",
      "Epoch 12 loss: 0.312\n",
      "Epoch 13 loss: 0.312\n",
      "Epoch 14 loss: 0.312\n",
      "Epoch 15 loss: 0.312\n",
      "Epoch 16 loss: 0.312\n",
      "Epoch 17 loss: 0.312\n",
      "Epoch 18 loss: 0.312\n",
      "Epoch 19 loss: 0.312\n",
      "Epoch 20 loss: 0.312\n"
     ]
    }
   ],
   "source": [
    "# Convert Pandas Series to Numpy array\n",
    "y_train = np.array(y_train)\n",
    "\n",
    "for epoch in range(20):\n",
    "    running_loss = 0.0\n",
    "    for i in range(0, len(X_train), 32):\n",
    "        inputs = torch.tensor(X_train[i:i+32], dtype=torch.float32)\n",
    "        labels = torch.tensor(y_train[i:i+32], dtype=torch.float32)\n",
    "        labels = labels.view(-1, 1)  # Reshape labels to match outputs\n",
    "        \n",
    "        optimizer.zero_grad()\n",
    "        \n",
    "        outputs = classifier(inputs)\n",
    "        loss = criterion(outputs, labels)\n",
    "        loss.backward()\n",
    "        optimizer.step()\n",
    "        \n",
    "        running_loss += loss.item()\n",
    "    print('Epoch %d loss: %.3f' % (epoch + 1, running_loss / (len(X_train) / 32)))"
   ]
  },
  {
   "cell_type": "code",
   "execution_count": 16,
   "id": "433d6d8e",
   "metadata": {},
   "outputs": [],
   "source": [
    "y_pred = []\n",
    "with torch.no_grad():\n",
    "    for i in range(0, len(X_test), 32):\n",
    "        inputs = torch.tensor(X_test[i:i+32], dtype=torch.float32)\n",
    "        outputs = classifier(inputs)\n",
    "        y_pred.extend(outputs.numpy() > 0.5)"
   ]
  },
  {
   "cell_type": "code",
   "execution_count": 20,
   "id": "ed0a583d",
   "metadata": {},
   "outputs": [
    {
     "name": "stdout",
     "output_type": "stream",
     "text": [
      "Test accuracy: 0.873\n"
     ]
    }
   ],
   "source": [
    "y_test = np.array(y_test)\n",
    "correct = 0\n",
    "total = 0\n",
    "with torch.no_grad():\n",
    "    for i in range(0, len(X_test), 32):\n",
    "        inputs = torch.tensor(X_test[i:i+32], dtype=torch.float32)\n",
    "        labels = torch.tensor(y_test[i:i+32], dtype=torch.float32)\n",
    "        labels = labels.view(-1, 1)  # Reshape labels to match outputs\n",
    "        \n",
    "        outputs = classifier(inputs)\n",
    "        predicted = (outputs > 0.5)\n",
    "        correct += (predicted == labels).sum().item()\n",
    "        total += labels.size(0)\n",
    "\n",
    "accuracy = correct / total\n",
    "print('Test accuracy: %.3f' % accuracy)"
   ]
  },
  {
   "cell_type": "code",
   "execution_count": 21,
   "id": "d6b9ab58",
   "metadata": {},
   "outputs": [
    {
     "name": "stdout",
     "output_type": "stream",
     "text": [
      "                     precision    recall  f1-score   support\n",
      "\n",
      "             Normal       0.82      0.95      0.88     24247\n",
      "Inner Race (0.007\")       0.94      0.80      0.86     24215\n",
      "\n",
      "           accuracy                           0.87     48462\n",
      "          macro avg       0.88      0.87      0.87     48462\n",
      "       weighted avg       0.88      0.87      0.87     48462\n",
      "\n"
     ]
    }
   ],
   "source": [
    "from sklearn.metrics import classification_report\n",
    "cr = classification_report(y_test, y_pred, target_names=['Normal', 'Inner Race (0.007\")'])\n",
    "print(cr)"
   ]
  },
  {
   "cell_type": "code",
   "execution_count": 22,
   "id": "f58754ae",
   "metadata": {},
   "outputs": [
    {
     "ename": "NameError",
     "evalue": "name 'cm' is not defined",
     "output_type": "error",
     "traceback": [
      "\u001b[1;31m---------------------------------------------------------------------------\u001b[0m",
      "\u001b[1;31mNameError\u001b[0m                                 Traceback (most recent call last)",
      "Cell \u001b[1;32mIn[22], line 1\u001b[0m\n\u001b[1;32m----> 1\u001b[0m normal, IR \u001b[38;5;241m=\u001b[39m \u001b[43mcm\u001b[49m\n\u001b[0;32m      2\u001b[0m anomalies \u001b[38;5;241m=\u001b[39m normal[\u001b[38;5;241m1\u001b[39m] \u001b[38;5;241m+\u001b[39m IR[\u001b[38;5;241m0\u001b[39m]\n\u001b[0;32m      3\u001b[0m \u001b[38;5;28mprint\u001b[39m(\u001b[38;5;124m\"\u001b[39m\u001b[38;5;124mAnomalies: \u001b[39m\u001b[38;5;132;01m{}\u001b[39;00m\u001b[38;5;124m\"\u001b[39m\u001b[38;5;241m.\u001b[39mformat(anomalies))\n",
      "\u001b[1;31mNameError\u001b[0m: name 'cm' is not defined"
     ]
    }
   ],
   "source": [
    "from sklearn.metrics import confusion_matrix\n",
    "cm = confusion_matrix(y_test, y_pred)\n",
    "\n",
    "import seaborn as sn\n",
    "import pandas as pd\n",
    "import matplotlib.pyplot as plt\n",
    "\n",
    "index = ['Normal', 'Inner Race (0.007\")']  \n",
    "columns = ['Normal', 'Inner Race (0.007\")']  \n",
    "cm_df = pd.DataFrame(cm,columns,index)  \n",
    "\n",
    "from sklearn.metrics import classification_report\n",
    "cr = classification_report(y_test, y_pred, target_names=['Normal', 'Inner Race (0.007\")'])\n",
    "print(cr)\n",
    "plt.figure(figsize=(10,4))\n",
    "sn.set(font_scale=1.4) # for label size\n",
    "sn.heatmap(cm_df, annot=True, fmt='g') # font size\n",
    "plt.title('Confusion matrix')\n",
    "plt.xlabel('Predicted')\n",
    "plt.ylabel('True')\n",
    "plt.show()\n",
    "\n",
    "plt.show()"
   ]
  },
  {
   "cell_type": "code",
   "execution_count": null,
   "id": "da2efca0",
   "metadata": {},
   "outputs": [],
   "source": []
  }
 ],
 "metadata": {
  "kernelspec": {
   "display_name": "Python 3 (ipykernel)",
   "language": "python",
   "name": "python3"
  },
  "language_info": {
   "codemirror_mode": {
    "name": "ipython",
    "version": 3
   },
   "file_extension": ".py",
   "mimetype": "text/x-python",
   "name": "python",
   "nbconvert_exporter": "python",
   "pygments_lexer": "ipython3",
   "version": "3.11.1"
  }
 },
 "nbformat": 4,
 "nbformat_minor": 5
}
